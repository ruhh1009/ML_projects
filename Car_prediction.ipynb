{
 "cells": [
  {
   "cell_type": "code",
   "execution_count": 1,
   "metadata": {},
   "outputs": [],
   "source": [
    "# Importing Generic libraries\n",
    "import numpy as np\n",
    "import pandas as pd\n",
    "import sklearn\n",
    "import seaborn as sns\n",
    "import matplotlib.pyplot as plt\n",
    "import joblib\n",
    "\n",
    "# Importing Outliers library\n",
    "from scipy import stats\n",
    "\n",
    "# Importing Encode library\n",
    "from sklearn.preprocessing import LabelEncoder\n",
    "\n",
    "# Importing Skewness library\n",
    "from sklearn.preprocessing import power_transform\n",
    "\n",
    "# Importing Scaling library\n",
    "from sklearn.preprocessing import StandardScaler\n",
    "\n",
    "# Importing Regression models library\n",
    "from sklearn.linear_model import LinearRegression,Lasso,Ridge,ElasticNet\n",
    "from sklearn.ensemble import RandomForestRegressor,AdaBoostRegressor\n",
    "from sklearn.tree import DecisionTreeRegressor\n",
    "\n",
    "# Importing Metrics library\n",
    "from sklearn.metrics import mean_absolute_error\n",
    "from sklearn.metrics import mean_squared_error\n",
    "from sklearn.metrics import r2_score\n",
    "\n",
    "# Importing Train Test Split Library\n",
    "from sklearn.model_selection import train_test_split\n",
    "\n",
    "# Importing Optimization Library\n",
    "from sklearn.model_selection import GridSearchCV\n",
    "\n",
    "# Importing Cross validation Library\n",
    "from sklearn.model_selection import cross_val_score\n",
    "\n",
    "# Importing Warnings\n",
    "import warnings\n",
    "warnings.filterwarnings(\"ignore\")"
   ]
  },
  {
   "cell_type": "code",
   "execution_count": 47,
   "metadata": {},
   "outputs": [],
   "source": [
    "#Importing train Dataset\n",
    "df=pd.read_csv('Cars_price.csv')"
   ]
  },
  {
   "cell_type": "code",
   "execution_count": 48,
   "metadata": {},
   "outputs": [
    {
     "data": {
      "text/html": [
       "<div>\n",
       "<style scoped>\n",
       "    .dataframe tbody tr th:only-of-type {\n",
       "        vertical-align: middle;\n",
       "    }\n",
       "\n",
       "    .dataframe tbody tr th {\n",
       "        vertical-align: top;\n",
       "    }\n",
       "\n",
       "    .dataframe thead th {\n",
       "        text-align: right;\n",
       "    }\n",
       "</style>\n",
       "<table border=\"1\" class=\"dataframe\">\n",
       "  <thead>\n",
       "    <tr style=\"text-align: right;\">\n",
       "      <th></th>\n",
       "      <th>Unnamed: 0</th>\n",
       "      <th>Brand</th>\n",
       "      <th>Model</th>\n",
       "      <th>Location</th>\n",
       "      <th>Year</th>\n",
       "      <th>Driven_km</th>\n",
       "      <th>Fuel</th>\n",
       "      <th>Owners_number</th>\n",
       "      <th>Price</th>\n",
       "    </tr>\n",
       "  </thead>\n",
       "  <tbody>\n",
       "    <tr>\n",
       "      <th>0</th>\n",
       "      <td>0</td>\n",
       "      <td>Toyota</td>\n",
       "      <td>Innova</td>\n",
       "      <td>Bangalore</td>\n",
       "      <td>2019</td>\n",
       "      <td>14,113 Kms</td>\n",
       "      <td>Diesel</td>\n",
       "      <td>First</td>\n",
       "      <td>23.25 Lakh</td>\n",
       "    </tr>\n",
       "    <tr>\n",
       "      <th>1</th>\n",
       "      <td>1</td>\n",
       "      <td>Maruti Suzuki</td>\n",
       "      <td>Wagon R</td>\n",
       "      <td>Hyderabad</td>\n",
       "      <td>2015</td>\n",
       "      <td>50,258 Kms</td>\n",
       "      <td>Petrol</td>\n",
       "      <td>First</td>\n",
       "      <td>4.4 Lakh</td>\n",
       "    </tr>\n",
       "    <tr>\n",
       "      <th>2</th>\n",
       "      <td>2</td>\n",
       "      <td>Mercedes-Benz</td>\n",
       "      <td>S-Class</td>\n",
       "      <td>Mumbai</td>\n",
       "      <td>2011</td>\n",
       "      <td>51,086 Kms</td>\n",
       "      <td>Diesel</td>\n",
       "      <td>First</td>\n",
       "      <td>25 Lakh</td>\n",
       "    </tr>\n",
       "    <tr>\n",
       "      <th>3</th>\n",
       "      <td>3</td>\n",
       "      <td>Maruti Suzuki</td>\n",
       "      <td>Alto 800</td>\n",
       "      <td>Delhi</td>\n",
       "      <td>2018</td>\n",
       "      <td>34,000 Kms</td>\n",
       "      <td>Petrol</td>\n",
       "      <td>First</td>\n",
       "      <td>3.1 Lakh</td>\n",
       "    </tr>\n",
       "    <tr>\n",
       "      <th>4</th>\n",
       "      <td>4</td>\n",
       "      <td>Volkswagen</td>\n",
       "      <td>Vento</td>\n",
       "      <td>Mumbai</td>\n",
       "      <td>2016</td>\n",
       "      <td>45,259 Kms</td>\n",
       "      <td>Petrol</td>\n",
       "      <td>First</td>\n",
       "      <td>6.95 Lakh</td>\n",
       "    </tr>\n",
       "  </tbody>\n",
       "</table>\n",
       "</div>"
      ],
      "text/plain": [
       "   Unnamed: 0          Brand     Model   Location  Year   Driven_km    Fuel  \\\n",
       "0           0         Toyota    Innova  Bangalore  2019  14,113 Kms  Diesel   \n",
       "1           1  Maruti Suzuki   Wagon R  Hyderabad  2015  50,258 Kms  Petrol   \n",
       "2           2  Mercedes-Benz   S-Class     Mumbai  2011  51,086 Kms  Diesel   \n",
       "3           3  Maruti Suzuki  Alto 800      Delhi  2018  34,000 Kms  Petrol   \n",
       "4           4     Volkswagen     Vento     Mumbai  2016  45,259 Kms  Petrol   \n",
       "\n",
       "  Owners_number       Price  \n",
       "0         First  23.25 Lakh  \n",
       "1         First    4.4 Lakh  \n",
       "2         First     25 Lakh  \n",
       "3         First    3.1 Lakh  \n",
       "4         First   6.95 Lakh  "
      ]
     },
     "execution_count": 48,
     "metadata": {},
     "output_type": "execute_result"
    }
   ],
   "source": [
    "#Checking train Dataset\n",
    "df.head()"
   ]
  },
  {
   "cell_type": "markdown",
   "metadata": {},
   "source": [
    "We dropped all unnecessary columns from the dataframe. Let's check the features present in our data."
   ]
  },
  {
   "cell_type": "code",
   "execution_count": 49,
   "metadata": {},
   "outputs": [
    {
     "data": {
      "text/plain": [
       "(5239, 9)"
      ]
     },
     "execution_count": 49,
     "metadata": {},
     "output_type": "execute_result"
    }
   ],
   "source": [
    "#Checking Shape of train Dataframe\n",
    "df.shape"
   ]
  },
  {
   "cell_type": "markdown",
   "metadata": {},
   "source": [
    "We have 5239 independent variables and 1 target variable. Next, let's look at null value are there in our dataset or not."
   ]
  },
  {
   "cell_type": "code",
   "execution_count": 50,
   "metadata": {},
   "outputs": [
    {
     "data": {
      "text/plain": [
       "Unnamed: 0       0\n",
       "Brand            0\n",
       "Model            0\n",
       "Location         0\n",
       "Year             0\n",
       "Driven_km        0\n",
       "Fuel             0\n",
       "Owners_number    0\n",
       "Price            0\n",
       "dtype: int64"
      ]
     },
     "execution_count": 50,
     "metadata": {},
     "output_type": "execute_result"
    }
   ],
   "source": [
    "#Checking Nullvalues in the Dataframe\n",
    "df.isnull().sum()"
   ]
  },
  {
   "cell_type": "markdown",
   "metadata": {},
   "source": [
    "In two column we find the null values. So we will replace them by their mean and mode in both the columns as follows"
   ]
  },
  {
   "cell_type": "code",
   "execution_count": 51,
   "metadata": {},
   "outputs": [],
   "source": [
    "# replacing letter symbols from driven_km and price so that we have numbers only in these column.\n",
    "df.replace({'Driven_km':{'[A-za-z]',',','-'}},'',regex = True,inplace = True)\n",
    "df.replace({'Price':{'[A-za-z]',',','-'}},'',regex = True,inplace = True)"
   ]
  },
  {
   "cell_type": "code",
   "execution_count": 52,
   "metadata": {},
   "outputs": [
    {
     "data": {
      "text/html": [
       "<div>\n",
       "<style scoped>\n",
       "    .dataframe tbody tr th:only-of-type {\n",
       "        vertical-align: middle;\n",
       "    }\n",
       "\n",
       "    .dataframe tbody tr th {\n",
       "        vertical-align: top;\n",
       "    }\n",
       "\n",
       "    .dataframe thead th {\n",
       "        text-align: right;\n",
       "    }\n",
       "</style>\n",
       "<table border=\"1\" class=\"dataframe\">\n",
       "  <thead>\n",
       "    <tr style=\"text-align: right;\">\n",
       "      <th></th>\n",
       "      <th>Unnamed: 0</th>\n",
       "      <th>Brand</th>\n",
       "      <th>Model</th>\n",
       "      <th>Location</th>\n",
       "      <th>Year</th>\n",
       "      <th>Driven_km</th>\n",
       "      <th>Fuel</th>\n",
       "      <th>Owners_number</th>\n",
       "      <th>Price</th>\n",
       "    </tr>\n",
       "  </thead>\n",
       "  <tbody>\n",
       "    <tr>\n",
       "      <th>0</th>\n",
       "      <td>0</td>\n",
       "      <td>Toyota</td>\n",
       "      <td>Innova</td>\n",
       "      <td>Bangalore</td>\n",
       "      <td>2019</td>\n",
       "      <td>14113</td>\n",
       "      <td>Diesel</td>\n",
       "      <td>First</td>\n",
       "      <td>23.25</td>\n",
       "    </tr>\n",
       "    <tr>\n",
       "      <th>1</th>\n",
       "      <td>1</td>\n",
       "      <td>Maruti Suzuki</td>\n",
       "      <td>Wagon R</td>\n",
       "      <td>Hyderabad</td>\n",
       "      <td>2015</td>\n",
       "      <td>50258</td>\n",
       "      <td>Petrol</td>\n",
       "      <td>First</td>\n",
       "      <td>4.4</td>\n",
       "    </tr>\n",
       "    <tr>\n",
       "      <th>2</th>\n",
       "      <td>2</td>\n",
       "      <td>Mercedes-Benz</td>\n",
       "      <td>S-Class</td>\n",
       "      <td>Mumbai</td>\n",
       "      <td>2011</td>\n",
       "      <td>51086</td>\n",
       "      <td>Diesel</td>\n",
       "      <td>First</td>\n",
       "      <td>25</td>\n",
       "    </tr>\n",
       "    <tr>\n",
       "      <th>3</th>\n",
       "      <td>3</td>\n",
       "      <td>Maruti Suzuki</td>\n",
       "      <td>Alto 800</td>\n",
       "      <td>Delhi</td>\n",
       "      <td>2018</td>\n",
       "      <td>34000</td>\n",
       "      <td>Petrol</td>\n",
       "      <td>First</td>\n",
       "      <td>3.1</td>\n",
       "    </tr>\n",
       "    <tr>\n",
       "      <th>4</th>\n",
       "      <td>4</td>\n",
       "      <td>Volkswagen</td>\n",
       "      <td>Vento</td>\n",
       "      <td>Mumbai</td>\n",
       "      <td>2016</td>\n",
       "      <td>45259</td>\n",
       "      <td>Petrol</td>\n",
       "      <td>First</td>\n",
       "      <td>6.95</td>\n",
       "    </tr>\n",
       "    <tr>\n",
       "      <th>...</th>\n",
       "      <td>...</td>\n",
       "      <td>...</td>\n",
       "      <td>...</td>\n",
       "      <td>...</td>\n",
       "      <td>...</td>\n",
       "      <td>...</td>\n",
       "      <td>...</td>\n",
       "      <td>...</td>\n",
       "      <td>...</td>\n",
       "    </tr>\n",
       "    <tr>\n",
       "      <th>5234</th>\n",
       "      <td>5234</td>\n",
       "      <td>Mercedes-Benz</td>\n",
       "      <td>E-Class</td>\n",
       "      <td>Delhi</td>\n",
       "      <td>2018</td>\n",
       "      <td>38200</td>\n",
       "      <td>Diesel</td>\n",
       "      <td>First</td>\n",
       "      <td>47</td>\n",
       "    </tr>\n",
       "    <tr>\n",
       "      <th>5235</th>\n",
       "      <td>5235</td>\n",
       "      <td>Mercedes-Benz</td>\n",
       "      <td>CLA</td>\n",
       "      <td>Delhi</td>\n",
       "      <td>2017</td>\n",
       "      <td>35600</td>\n",
       "      <td>Diesel</td>\n",
       "      <td>Second</td>\n",
       "      <td>27</td>\n",
       "    </tr>\n",
       "    <tr>\n",
       "      <th>5236</th>\n",
       "      <td>5236</td>\n",
       "      <td>-</td>\n",
       "      <td>-</td>\n",
       "      <td>-</td>\n",
       "      <td>-</td>\n",
       "      <td></td>\n",
       "      <td>-</td>\n",
       "      <td>-</td>\n",
       "      <td></td>\n",
       "    </tr>\n",
       "    <tr>\n",
       "      <th>5237</th>\n",
       "      <td>5237</td>\n",
       "      <td>Mercedes-Benz</td>\n",
       "      <td>E-Class</td>\n",
       "      <td>Delhi</td>\n",
       "      <td>2013</td>\n",
       "      <td>95200</td>\n",
       "      <td>Diesel</td>\n",
       "      <td>First</td>\n",
       "      <td>16.5</td>\n",
       "    </tr>\n",
       "    <tr>\n",
       "      <th>5238</th>\n",
       "      <td>5238</td>\n",
       "      <td>Hyundai</td>\n",
       "      <td>Eon</td>\n",
       "      <td>Mumbai</td>\n",
       "      <td>2018</td>\n",
       "      <td>25000</td>\n",
       "      <td>Petrol</td>\n",
       "      <td>First</td>\n",
       "      <td>3.2</td>\n",
       "    </tr>\n",
       "  </tbody>\n",
       "</table>\n",
       "<p>5239 rows × 9 columns</p>\n",
       "</div>"
      ],
      "text/plain": [
       "      Unnamed: 0          Brand     Model   Location  Year Driven_km    Fuel  \\\n",
       "0              0         Toyota    Innova  Bangalore  2019    14113   Diesel   \n",
       "1              1  Maruti Suzuki   Wagon R  Hyderabad  2015    50258   Petrol   \n",
       "2              2  Mercedes-Benz   S-Class     Mumbai  2011    51086   Diesel   \n",
       "3              3  Maruti Suzuki  Alto 800      Delhi  2018    34000   Petrol   \n",
       "4              4     Volkswagen     Vento     Mumbai  2016    45259   Petrol   \n",
       "...          ...            ...       ...        ...   ...       ...     ...   \n",
       "5234        5234  Mercedes-Benz   E-Class      Delhi  2018    38200   Diesel   \n",
       "5235        5235  Mercedes-Benz       CLA      Delhi  2017    35600   Diesel   \n",
       "5236        5236              -         -          -     -                 -   \n",
       "5237        5237  Mercedes-Benz   E-Class      Delhi  2013    95200   Diesel   \n",
       "5238        5238        Hyundai       Eon     Mumbai  2018    25000   Petrol   \n",
       "\n",
       "     Owners_number   Price  \n",
       "0            First  23.25   \n",
       "1            First    4.4   \n",
       "2            First     25   \n",
       "3            First    3.1   \n",
       "4            First   6.95   \n",
       "...            ...     ...  \n",
       "5234         First     47   \n",
       "5235        Second     27   \n",
       "5236             -          \n",
       "5237         First   16.5   \n",
       "5238         First    3.2   \n",
       "\n",
       "[5239 rows x 9 columns]"
      ]
     },
     "execution_count": 52,
     "metadata": {},
     "output_type": "execute_result"
    }
   ],
   "source": [
    "df"
   ]
  },
  {
   "cell_type": "markdown",
   "metadata": {},
   "source": [
    "Counting different column values present in dataset, so that we can analyse the data accordingly."
   ]
  },
  {
   "cell_type": "code",
   "execution_count": 53,
   "metadata": {},
   "outputs": [
    {
     "data": {
      "text/plain": [
       "Innova     193\n",
       "City       182\n",
       "Creta      170\n",
       "Swift      166\n",
       "-          156\n",
       "          ... \n",
       "Huracan      1\n",
       "Triber       1\n",
       "X-Trail      1\n",
       "Sumo         1\n",
       "Gloster      1\n",
       "Name: Model, Length: 229, dtype: int64"
      ]
     },
     "execution_count": 53,
     "metadata": {},
     "output_type": "execute_result"
    }
   ],
   "source": [
    "df['Model'].value_counts()"
   ]
  },
  {
   "cell_type": "code",
   "execution_count": 54,
   "metadata": {},
   "outputs": [
    {
     "data": {
      "text/plain": [
       "Maruti Suzuki       1097\n",
       "Hyundai              849\n",
       "Honda                415\n",
       "Toyota               414\n",
       "Mahindra             306\n",
       "Mercedes-Benz        305\n",
       "BMW                  252\n",
       "Volkswagen           233\n",
       "Ford                 231\n",
       "Audi                 197\n",
       "-                    156\n",
       "Renault              135\n",
       "Skoda                122\n",
       "Tata                 102\n",
       "Nissan                53\n",
       "Land Rover            50\n",
       "Chevrolet             48\n",
       "Jaguar                38\n",
       "Volvo                 37\n",
       "Kia                   36\n",
       "MG                    31\n",
       "Jeep                  28\n",
       "MINI                  28\n",
       "Datsun                21\n",
       "Porsche               16\n",
       "Mitsubishi            10\n",
       "Fiat                  10\n",
       "Lamborghini            4\n",
       "Maserati               3\n",
       "Lexus                  3\n",
       "Ssangyong              3\n",
       "Bentley                2\n",
       "Hindustan Motors       2\n",
       "Opel                   2\n",
       "Name: Brand, dtype: int64"
      ]
     },
     "execution_count": 54,
     "metadata": {},
     "output_type": "execute_result"
    }
   ],
   "source": [
    "df['Brand'].value_counts()"
   ]
  },
  {
   "cell_type": "code",
   "execution_count": 55,
   "metadata": {},
   "outputs": [
    {
     "data": {
      "text/plain": [
       "Mumbai             917\n",
       "Delhi              794\n",
       "Bangalore          544\n",
       "Hyderabad          336\n",
       "Ahmedabad          308\n",
       "Pune               306\n",
       "Chennai            213\n",
       "-                  156\n",
       "Kolkata            148\n",
       "Lucknow            126\n",
       "Coimbatore         121\n",
       "Thane              107\n",
       "Dehradun            79\n",
       "Raipur              79\n",
       "Gurgaon             72\n",
       "Ghaziabad           69\n",
       "Navi Mumbai         68\n",
       "Surat               60\n",
       "Chandigarh          59\n",
       "Nagpur              58\n",
       "Meerut              53\n",
       "Tiruchirappalli     49\n",
       "Jaipur              48\n",
       "Faridabad           44\n",
       "Kanpur              41\n",
       "Madurai             34\n",
       "Ludhiana            30\n",
       "Mohali              27\n",
       "Mangalore           27\n",
       "Udaipur             22\n",
       "Bhopal              22\n",
       "Aurangabad          21\n",
       "Jaunpur             20\n",
       "Kochi               18\n",
       "Karnal              18\n",
       "Noida               16\n",
       "Agra                16\n",
       "Jalandhar           15\n",
       "Kharar              15\n",
       "Ranchi              15\n",
       "Vadodara            14\n",
       "Visakhapatnam       13\n",
       "Varanasi            11\n",
       "Nashik              10\n",
       "Indore               5\n",
       "Zirakpur             4\n",
       "Kottayam             3\n",
       "Patna                3\n",
       "Lakhimpur Kheri      3\n",
       "Kalamassery          1\n",
       "Mysore               1\n",
       "Name: Location, dtype: int64"
      ]
     },
     "execution_count": 55,
     "metadata": {},
     "output_type": "execute_result"
    }
   ],
   "source": [
    "df['Location'].value_counts()"
   ]
  },
  {
   "cell_type": "code",
   "execution_count": 56,
   "metadata": {},
   "outputs": [
    {
     "data": {
      "text/plain": [
       "2017    710\n",
       "2018    655\n",
       "2016    650\n",
       "2014    515\n",
       "2015    512\n",
       "2019    397\n",
       "2013    382\n",
       "2012    351\n",
       "2011    260\n",
       "2020    204\n",
       "2010    160\n",
       "-       156\n",
       "2009    107\n",
       "2008     50\n",
       "2007     39\n",
       "2021     30\n",
       "2005     24\n",
       "2006     21\n",
       "2004      5\n",
       "2003      4\n",
       "2002      2\n",
       "1988      2\n",
       "1996      2\n",
       "2001      1\n",
       "Name: Year, dtype: int64"
      ]
     },
     "execution_count": 56,
     "metadata": {},
     "output_type": "execute_result"
    }
   ],
   "source": [
    "df['Year'].value_counts()"
   ]
  },
  {
   "cell_type": "code",
   "execution_count": 57,
   "metadata": {},
   "outputs": [
    {
     "data": {
      "text/plain": [
       "Diesel      2704\n",
       "Petrol      2315\n",
       "-            156\n",
       "CNG           49\n",
       "Hybrid         8\n",
       "Electric       5\n",
       "LPG            2\n",
       "Name: Fuel, dtype: int64"
      ]
     },
     "execution_count": 57,
     "metadata": {},
     "output_type": "execute_result"
    }
   ],
   "source": [
    "df['Fuel'].value_counts()"
   ]
  },
  {
   "cell_type": "code",
   "execution_count": 58,
   "metadata": {},
   "outputs": [
    {
     "data": {
      "text/plain": [
       "First               4054\n",
       "Second               901\n",
       "-                    156\n",
       "Third                101\n",
       "UnRegistered Car      24\n",
       "4 or More              2\n",
       "Fourth                 1\n",
       "Name: Owners_number, dtype: int64"
      ]
     },
     "execution_count": 58,
     "metadata": {},
     "output_type": "execute_result"
    }
   ],
   "source": [
    "df['Owners_number'].value_counts()"
   ]
  },
  {
   "cell_type": "code",
   "execution_count": 59,
   "metadata": {},
   "outputs": [],
   "source": [
    "# replacing NaN value by mode values in our dataset column.\n",
    "df['Owners_number']=df['Owners_number'].replace('-','First')\n",
    "df['Fuel']=df['Fuel'].replace('-','Diesel')\n",
    "df['Year']=df['Year'].replace('-','2017')\n",
    "df['Brand']=df['Brand'].replace('-','Maruti Suzuki ')\n",
    "df['Model']=df['Model'].replace('-','Innova')\n",
    "df['Location']=df['Location'].replace('-','Mumbai')"
   ]
  },
  {
   "cell_type": "code",
   "execution_count": 60,
   "metadata": {},
   "outputs": [],
   "source": [
    "# converting str to float\n",
    "df['Driven_km'] = pd.to_numeric(df['Driven_km'])\n",
    "df['Price'] = pd.to_numeric(df['Price'])\n",
    "df['Year'] = pd.to_numeric(df['Year'])"
   ]
  },
  {
   "cell_type": "code",
   "execution_count": 61,
   "metadata": {},
   "outputs": [
    {
     "data": {
      "text/html": [
       "<div>\n",
       "<style scoped>\n",
       "    .dataframe tbody tr th:only-of-type {\n",
       "        vertical-align: middle;\n",
       "    }\n",
       "\n",
       "    .dataframe tbody tr th {\n",
       "        vertical-align: top;\n",
       "    }\n",
       "\n",
       "    .dataframe thead th {\n",
       "        text-align: right;\n",
       "    }\n",
       "</style>\n",
       "<table border=\"1\" class=\"dataframe\">\n",
       "  <thead>\n",
       "    <tr style=\"text-align: right;\">\n",
       "      <th></th>\n",
       "      <th>Unnamed: 0</th>\n",
       "      <th>Brand</th>\n",
       "      <th>Model</th>\n",
       "      <th>Location</th>\n",
       "      <th>Year</th>\n",
       "      <th>Driven_km</th>\n",
       "      <th>Fuel</th>\n",
       "      <th>Owners_number</th>\n",
       "      <th>Price</th>\n",
       "    </tr>\n",
       "  </thead>\n",
       "  <tbody>\n",
       "    <tr>\n",
       "      <th>0</th>\n",
       "      <td>0</td>\n",
       "      <td>Toyota</td>\n",
       "      <td>Innova</td>\n",
       "      <td>Bangalore</td>\n",
       "      <td>2019</td>\n",
       "      <td>14113.0</td>\n",
       "      <td>Diesel</td>\n",
       "      <td>First</td>\n",
       "      <td>23.25</td>\n",
       "    </tr>\n",
       "    <tr>\n",
       "      <th>1</th>\n",
       "      <td>1</td>\n",
       "      <td>Maruti Suzuki</td>\n",
       "      <td>Wagon R</td>\n",
       "      <td>Hyderabad</td>\n",
       "      <td>2015</td>\n",
       "      <td>50258.0</td>\n",
       "      <td>Petrol</td>\n",
       "      <td>First</td>\n",
       "      <td>4.40</td>\n",
       "    </tr>\n",
       "    <tr>\n",
       "      <th>2</th>\n",
       "      <td>2</td>\n",
       "      <td>Mercedes-Benz</td>\n",
       "      <td>S-Class</td>\n",
       "      <td>Mumbai</td>\n",
       "      <td>2011</td>\n",
       "      <td>51086.0</td>\n",
       "      <td>Diesel</td>\n",
       "      <td>First</td>\n",
       "      <td>25.00</td>\n",
       "    </tr>\n",
       "    <tr>\n",
       "      <th>3</th>\n",
       "      <td>3</td>\n",
       "      <td>Maruti Suzuki</td>\n",
       "      <td>Alto 800</td>\n",
       "      <td>Delhi</td>\n",
       "      <td>2018</td>\n",
       "      <td>34000.0</td>\n",
       "      <td>Petrol</td>\n",
       "      <td>First</td>\n",
       "      <td>3.10</td>\n",
       "    </tr>\n",
       "    <tr>\n",
       "      <th>4</th>\n",
       "      <td>4</td>\n",
       "      <td>Volkswagen</td>\n",
       "      <td>Vento</td>\n",
       "      <td>Mumbai</td>\n",
       "      <td>2016</td>\n",
       "      <td>45259.0</td>\n",
       "      <td>Petrol</td>\n",
       "      <td>First</td>\n",
       "      <td>6.95</td>\n",
       "    </tr>\n",
       "    <tr>\n",
       "      <th>...</th>\n",
       "      <td>...</td>\n",
       "      <td>...</td>\n",
       "      <td>...</td>\n",
       "      <td>...</td>\n",
       "      <td>...</td>\n",
       "      <td>...</td>\n",
       "      <td>...</td>\n",
       "      <td>...</td>\n",
       "      <td>...</td>\n",
       "    </tr>\n",
       "    <tr>\n",
       "      <th>5234</th>\n",
       "      <td>5234</td>\n",
       "      <td>Mercedes-Benz</td>\n",
       "      <td>E-Class</td>\n",
       "      <td>Delhi</td>\n",
       "      <td>2018</td>\n",
       "      <td>38200.0</td>\n",
       "      <td>Diesel</td>\n",
       "      <td>First</td>\n",
       "      <td>47.00</td>\n",
       "    </tr>\n",
       "    <tr>\n",
       "      <th>5235</th>\n",
       "      <td>5235</td>\n",
       "      <td>Mercedes-Benz</td>\n",
       "      <td>CLA</td>\n",
       "      <td>Delhi</td>\n",
       "      <td>2017</td>\n",
       "      <td>35600.0</td>\n",
       "      <td>Diesel</td>\n",
       "      <td>Second</td>\n",
       "      <td>27.00</td>\n",
       "    </tr>\n",
       "    <tr>\n",
       "      <th>5236</th>\n",
       "      <td>5236</td>\n",
       "      <td>Maruti Suzuki</td>\n",
       "      <td>Innova</td>\n",
       "      <td>Mumbai</td>\n",
       "      <td>2017</td>\n",
       "      <td>NaN</td>\n",
       "      <td>Diesel</td>\n",
       "      <td>First</td>\n",
       "      <td>NaN</td>\n",
       "    </tr>\n",
       "    <tr>\n",
       "      <th>5237</th>\n",
       "      <td>5237</td>\n",
       "      <td>Mercedes-Benz</td>\n",
       "      <td>E-Class</td>\n",
       "      <td>Delhi</td>\n",
       "      <td>2013</td>\n",
       "      <td>95200.0</td>\n",
       "      <td>Diesel</td>\n",
       "      <td>First</td>\n",
       "      <td>16.50</td>\n",
       "    </tr>\n",
       "    <tr>\n",
       "      <th>5238</th>\n",
       "      <td>5238</td>\n",
       "      <td>Hyundai</td>\n",
       "      <td>Eon</td>\n",
       "      <td>Mumbai</td>\n",
       "      <td>2018</td>\n",
       "      <td>25000.0</td>\n",
       "      <td>Petrol</td>\n",
       "      <td>First</td>\n",
       "      <td>3.20</td>\n",
       "    </tr>\n",
       "  </tbody>\n",
       "</table>\n",
       "<p>5239 rows × 9 columns</p>\n",
       "</div>"
      ],
      "text/plain": [
       "      Unnamed: 0           Brand     Model   Location  Year  Driven_km  \\\n",
       "0              0          Toyota    Innova  Bangalore  2019    14113.0   \n",
       "1              1   Maruti Suzuki   Wagon R  Hyderabad  2015    50258.0   \n",
       "2              2   Mercedes-Benz   S-Class     Mumbai  2011    51086.0   \n",
       "3              3   Maruti Suzuki  Alto 800      Delhi  2018    34000.0   \n",
       "4              4      Volkswagen     Vento     Mumbai  2016    45259.0   \n",
       "...          ...             ...       ...        ...   ...        ...   \n",
       "5234        5234   Mercedes-Benz   E-Class      Delhi  2018    38200.0   \n",
       "5235        5235   Mercedes-Benz       CLA      Delhi  2017    35600.0   \n",
       "5236        5236  Maruti Suzuki     Innova     Mumbai  2017        NaN   \n",
       "5237        5237   Mercedes-Benz   E-Class      Delhi  2013    95200.0   \n",
       "5238        5238         Hyundai       Eon     Mumbai  2018    25000.0   \n",
       "\n",
       "        Fuel Owners_number  Price  \n",
       "0     Diesel         First  23.25  \n",
       "1     Petrol         First   4.40  \n",
       "2     Diesel         First  25.00  \n",
       "3     Petrol         First   3.10  \n",
       "4     Petrol         First   6.95  \n",
       "...      ...           ...    ...  \n",
       "5234  Diesel         First  47.00  \n",
       "5235  Diesel        Second  27.00  \n",
       "5236  Diesel         First    NaN  \n",
       "5237  Diesel         First  16.50  \n",
       "5238  Petrol         First   3.20  \n",
       "\n",
       "[5239 rows x 9 columns]"
      ]
     },
     "execution_count": 61,
     "metadata": {},
     "output_type": "execute_result"
    }
   ],
   "source": [
    "df"
   ]
  },
  {
   "cell_type": "code",
   "execution_count": 62,
   "metadata": {},
   "outputs": [
    {
     "data": {
      "text/plain": [
       "55419.78024788511"
      ]
     },
     "execution_count": 62,
     "metadata": {},
     "output_type": "execute_result"
    }
   ],
   "source": [
    "# finding mean of driven_km\n",
    "mean1=df['Driven_km'].mean()\n",
    "mean1"
   ]
  },
  {
   "cell_type": "code",
   "execution_count": 63,
   "metadata": {},
   "outputs": [
    {
     "data": {
      "text/plain": [
       "189.33912846744045"
      ]
     },
     "execution_count": 63,
     "metadata": {},
     "output_type": "execute_result"
    }
   ],
   "source": [
    "# finding mean of Price\n",
    "mean2=df['Price'].mean()\n",
    "mean2"
   ]
  },
  {
   "cell_type": "code",
   "execution_count": 64,
   "metadata": {},
   "outputs": [],
   "source": [
    "# replacing NaN value by mean values in our dataset column.\n",
    "df['Price']=df['Price'].replace(np.NaN,189.33)\n",
    "df['Driven_km']=df['Driven_km'].replace(np.NaN,55419.78)"
   ]
  },
  {
   "cell_type": "code",
   "execution_count": 65,
   "metadata": {},
   "outputs": [
    {
     "name": "stdout",
     "output_type": "stream",
     "text": [
      "<class 'pandas.core.frame.DataFrame'>\n",
      "RangeIndex: 5239 entries, 0 to 5238\n",
      "Data columns (total 9 columns):\n",
      " #   Column         Non-Null Count  Dtype  \n",
      "---  ------         --------------  -----  \n",
      " 0   Unnamed: 0     5239 non-null   int64  \n",
      " 1   Brand          5239 non-null   object \n",
      " 2   Model          5239 non-null   object \n",
      " 3   Location       5239 non-null   object \n",
      " 4   Year           5239 non-null   int64  \n",
      " 5   Driven_km      5239 non-null   float64\n",
      " 6   Fuel           5239 non-null   object \n",
      " 7   Owners_number  5239 non-null   object \n",
      " 8   Price          5239 non-null   float64\n",
      "dtypes: float64(2), int64(2), object(5)\n",
      "memory usage: 368.5+ KB\n"
     ]
    }
   ],
   "source": [
    "df.info()"
   ]
  },
  {
   "cell_type": "code",
   "execution_count": 66,
   "metadata": {},
   "outputs": [
    {
     "data": {
      "text/html": [
       "<div>\n",
       "<style scoped>\n",
       "    .dataframe tbody tr th:only-of-type {\n",
       "        vertical-align: middle;\n",
       "    }\n",
       "\n",
       "    .dataframe tbody tr th {\n",
       "        vertical-align: top;\n",
       "    }\n",
       "\n",
       "    .dataframe thead th {\n",
       "        text-align: right;\n",
       "    }\n",
       "</style>\n",
       "<table border=\"1\" class=\"dataframe\">\n",
       "  <thead>\n",
       "    <tr style=\"text-align: right;\">\n",
       "      <th></th>\n",
       "      <th>Unnamed: 0</th>\n",
       "      <th>Brand</th>\n",
       "      <th>Model</th>\n",
       "      <th>Location</th>\n",
       "      <th>Year</th>\n",
       "      <th>Driven_km</th>\n",
       "      <th>Fuel</th>\n",
       "      <th>Owners_number</th>\n",
       "      <th>Price</th>\n",
       "    </tr>\n",
       "  </thead>\n",
       "  <tbody>\n",
       "    <tr>\n",
       "      <th>0</th>\n",
       "      <td>0</td>\n",
       "      <td>Toyota</td>\n",
       "      <td>Innova</td>\n",
       "      <td>Bangalore</td>\n",
       "      <td>2019</td>\n",
       "      <td>14113.00</td>\n",
       "      <td>Diesel</td>\n",
       "      <td>First</td>\n",
       "      <td>23.25</td>\n",
       "    </tr>\n",
       "    <tr>\n",
       "      <th>1</th>\n",
       "      <td>1</td>\n",
       "      <td>Maruti Suzuki</td>\n",
       "      <td>Wagon R</td>\n",
       "      <td>Hyderabad</td>\n",
       "      <td>2015</td>\n",
       "      <td>50258.00</td>\n",
       "      <td>Petrol</td>\n",
       "      <td>First</td>\n",
       "      <td>4.40</td>\n",
       "    </tr>\n",
       "    <tr>\n",
       "      <th>2</th>\n",
       "      <td>2</td>\n",
       "      <td>Mercedes-Benz</td>\n",
       "      <td>S-Class</td>\n",
       "      <td>Mumbai</td>\n",
       "      <td>2011</td>\n",
       "      <td>51086.00</td>\n",
       "      <td>Diesel</td>\n",
       "      <td>First</td>\n",
       "      <td>25.00</td>\n",
       "    </tr>\n",
       "    <tr>\n",
       "      <th>3</th>\n",
       "      <td>3</td>\n",
       "      <td>Maruti Suzuki</td>\n",
       "      <td>Alto 800</td>\n",
       "      <td>Delhi</td>\n",
       "      <td>2018</td>\n",
       "      <td>34000.00</td>\n",
       "      <td>Petrol</td>\n",
       "      <td>First</td>\n",
       "      <td>3.10</td>\n",
       "    </tr>\n",
       "    <tr>\n",
       "      <th>4</th>\n",
       "      <td>4</td>\n",
       "      <td>Volkswagen</td>\n",
       "      <td>Vento</td>\n",
       "      <td>Mumbai</td>\n",
       "      <td>2016</td>\n",
       "      <td>45259.00</td>\n",
       "      <td>Petrol</td>\n",
       "      <td>First</td>\n",
       "      <td>6.95</td>\n",
       "    </tr>\n",
       "    <tr>\n",
       "      <th>...</th>\n",
       "      <td>...</td>\n",
       "      <td>...</td>\n",
       "      <td>...</td>\n",
       "      <td>...</td>\n",
       "      <td>...</td>\n",
       "      <td>...</td>\n",
       "      <td>...</td>\n",
       "      <td>...</td>\n",
       "      <td>...</td>\n",
       "    </tr>\n",
       "    <tr>\n",
       "      <th>5234</th>\n",
       "      <td>5234</td>\n",
       "      <td>Mercedes-Benz</td>\n",
       "      <td>E-Class</td>\n",
       "      <td>Delhi</td>\n",
       "      <td>2018</td>\n",
       "      <td>38200.00</td>\n",
       "      <td>Diesel</td>\n",
       "      <td>First</td>\n",
       "      <td>47.00</td>\n",
       "    </tr>\n",
       "    <tr>\n",
       "      <th>5235</th>\n",
       "      <td>5235</td>\n",
       "      <td>Mercedes-Benz</td>\n",
       "      <td>CLA</td>\n",
       "      <td>Delhi</td>\n",
       "      <td>2017</td>\n",
       "      <td>35600.00</td>\n",
       "      <td>Diesel</td>\n",
       "      <td>Second</td>\n",
       "      <td>27.00</td>\n",
       "    </tr>\n",
       "    <tr>\n",
       "      <th>5236</th>\n",
       "      <td>5236</td>\n",
       "      <td>Maruti Suzuki</td>\n",
       "      <td>Innova</td>\n",
       "      <td>Mumbai</td>\n",
       "      <td>2017</td>\n",
       "      <td>55419.78</td>\n",
       "      <td>Diesel</td>\n",
       "      <td>First</td>\n",
       "      <td>189.33</td>\n",
       "    </tr>\n",
       "    <tr>\n",
       "      <th>5237</th>\n",
       "      <td>5237</td>\n",
       "      <td>Mercedes-Benz</td>\n",
       "      <td>E-Class</td>\n",
       "      <td>Delhi</td>\n",
       "      <td>2013</td>\n",
       "      <td>95200.00</td>\n",
       "      <td>Diesel</td>\n",
       "      <td>First</td>\n",
       "      <td>16.50</td>\n",
       "    </tr>\n",
       "    <tr>\n",
       "      <th>5238</th>\n",
       "      <td>5238</td>\n",
       "      <td>Hyundai</td>\n",
       "      <td>Eon</td>\n",
       "      <td>Mumbai</td>\n",
       "      <td>2018</td>\n",
       "      <td>25000.00</td>\n",
       "      <td>Petrol</td>\n",
       "      <td>First</td>\n",
       "      <td>3.20</td>\n",
       "    </tr>\n",
       "  </tbody>\n",
       "</table>\n",
       "<p>5239 rows × 9 columns</p>\n",
       "</div>"
      ],
      "text/plain": [
       "      Unnamed: 0           Brand     Model   Location  Year  Driven_km  \\\n",
       "0              0          Toyota    Innova  Bangalore  2019   14113.00   \n",
       "1              1   Maruti Suzuki   Wagon R  Hyderabad  2015   50258.00   \n",
       "2              2   Mercedes-Benz   S-Class     Mumbai  2011   51086.00   \n",
       "3              3   Maruti Suzuki  Alto 800      Delhi  2018   34000.00   \n",
       "4              4      Volkswagen     Vento     Mumbai  2016   45259.00   \n",
       "...          ...             ...       ...        ...   ...        ...   \n",
       "5234        5234   Mercedes-Benz   E-Class      Delhi  2018   38200.00   \n",
       "5235        5235   Mercedes-Benz       CLA      Delhi  2017   35600.00   \n",
       "5236        5236  Maruti Suzuki     Innova     Mumbai  2017   55419.78   \n",
       "5237        5237   Mercedes-Benz   E-Class      Delhi  2013   95200.00   \n",
       "5238        5238         Hyundai       Eon     Mumbai  2018   25000.00   \n",
       "\n",
       "        Fuel Owners_number   Price  \n",
       "0     Diesel         First   23.25  \n",
       "1     Petrol         First    4.40  \n",
       "2     Diesel         First   25.00  \n",
       "3     Petrol         First    3.10  \n",
       "4     Petrol         First    6.95  \n",
       "...      ...           ...     ...  \n",
       "5234  Diesel         First   47.00  \n",
       "5235  Diesel        Second   27.00  \n",
       "5236  Diesel         First  189.33  \n",
       "5237  Diesel         First   16.50  \n",
       "5238  Petrol         First    3.20  \n",
       "\n",
       "[5239 rows x 9 columns]"
      ]
     },
     "execution_count": 66,
     "metadata": {},
     "output_type": "execute_result"
    }
   ],
   "source": [
    "df"
   ]
  },
  {
   "cell_type": "markdown",
   "metadata": {},
   "source": [
    "# EDA"
   ]
  },
  {
   "cell_type": "code",
   "execution_count": 82,
   "metadata": {},
   "outputs": [
    {
     "data": {
      "text/plain": [
       "(array([5.227e+03, 0.000e+00, 0.000e+00, 0.000e+00, 2.000e+00, 0.000e+00,\n",
       "        4.000e+00, 0.000e+00, 1.000e+00, 5.000e+00]),\n",
       " array([1.00000e+00, 9.90090e+03, 1.98008e+04, 2.97007e+04, 3.96006e+04,\n",
       "        4.95005e+04, 5.94004e+04, 6.93003e+04, 7.92002e+04, 8.91001e+04,\n",
       "        9.90000e+04]),\n",
       " <a list of 10 Patch objects>)"
      ]
     },
     "execution_count": 82,
     "metadata": {},
     "output_type": "execute_result"
    },
    {
     "data": {
      "image/png": "[encoded data removed]",
      "text/plain": [
       "<Figure size 1080x360 with 1 Axes>"
      ]
     },
     "metadata": {
      "needs_background": "light"
     },
     "output_type": "display_data"
    }
   ],
   "source": [
    "# Ploting Histogram graph/ Univariate Analysis\n",
    "plt.figure(figsize=[15,5])\n",
    "plt.hist(df['Price'])"
   ]
  },
  {
   "cell_type": "markdown",
   "metadata": {},
   "source": [
    "From this garph we can observe that Price of cars in our dataset. The value of price is in lakhs.  "
   ]
  },
  {
   "cell_type": "code",
   "execution_count": 81,
   "metadata": {},
   "outputs": [
    {
     "data": {
      "text/plain": [
       "(array([4.722e+03, 4.860e+02, 2.100e+01, 2.000e+00, 0.000e+00, 0.000e+00,\n",
       "        1.000e+00, 3.000e+00, 0.000e+00, 4.000e+00]),\n",
       " array([     0.,  92000., 184000., 276000., 368000., 460000., 552000.,\n",
       "        644000., 736000., 828000., 920000.]),\n",
       " <a list of 10 Patch objects>)"
      ]
     },
     "execution_count": 81,
     "metadata": {},
     "output_type": "execute_result"
    },
    {
     "data": {
      "image/png": "[encoded data removed]",
      "text/plain": [
       "<Figure size 1080x360 with 1 Axes>"
      ]
     },
     "metadata": {
      "needs_background": "light"
     },
     "output_type": "display_data"
    }
   ],
   "source": [
    "# Ploting Histogram graph/ Univariate Analysis\n",
    "plt.figure(figsize=[15,5])\n",
    "plt.hist(df['Driven_km'])"
   ]
  },
  {
   "cell_type": "markdown",
   "metadata": {},
   "source": [
    "We can observe that in this graph driven_km is maximum from 0 to 100000 km in our data and above 200000 is minimum."
   ]
  },
  {
   "cell_type": "code",
   "execution_count": 76,
   "metadata": {},
   "outputs": [
    {
     "data": {
      "text/plain": [
       "<BarContainer object of 5239 artists>"
      ]
     },
     "execution_count": 76,
     "metadata": {},
     "output_type": "execute_result"
    },
    {
     "data": {
      "image/png": "[encoded data removed]",
      "text/plain": [
       "<Figure size 3600x1800 with 1 Axes>"
      ]
     },
     "metadata": {
      "needs_background": "light"
     },
     "output_type": "display_data"
    }
   ],
   "source": [
    "# Ploting Bar graph / Bivariate Analysis\n",
    "plt.figure(figsize=[50,25])\n",
    "plt.bar(df['Location'],df['Price'])"
   ]
  },
  {
   "cell_type": "markdown",
   "metadata": {},
   "source": [
    "From this graph we can observe that only few city have maximum saling of cars, exculding those we have very less cities in which cars are solding. And counting of such cities are maximum in which cars are solding."
   ]
  },
  {
   "cell_type": "code",
   "execution_count": 72,
   "metadata": {},
   "outputs": [
    {
     "data": {
      "text/plain": [
       "<BarContainer object of 5239 artists>"
      ]
     },
     "execution_count": 72,
     "metadata": {},
     "output_type": "execute_result"
    },
    {
     "data": {
      "image/png": "[encoded data removed]",
      "text/plain": [
       "<Figure size 1080x576 with 1 Axes>"
      ]
     },
     "metadata": {
      "needs_background": "light"
     },
     "output_type": "display_data"
    }
   ],
   "source": [
    "#Ploting Bar graph / Bivariate Analysis\n",
    "plt.figure(figsize=[15,8])\n",
    "plt.bar(df['Year'],df['Price'])"
   ]
  },
  {
   "cell_type": "markdown",
   "metadata": {},
   "source": [
    "From this graph we can conclude that car manufactured in 2003 to 2007 is more otherwise recent manufactured car in last 5-6 years are solding less."
   ]
  },
  {
   "cell_type": "code",
   "execution_count": 84,
   "metadata": {},
   "outputs": [
    {
     "data": {
      "text/plain": [
       "<BarContainer object of 5239 artists>"
      ]
     },
     "execution_count": 84,
     "metadata": {},
     "output_type": "execute_result"
    },
    {
     "data": {
      "image/png": "[encoded data removed]",
      "text/plain": [
       "<Figure size 1080x576 with 1 Axes>"
      ]
     },
     "metadata": {
      "needs_background": "light"
     },
     "output_type": "display_data"
    }
   ],
   "source": [
    "# Ploting Bar graph / Bivariate Analysis\n",
    "plt.figure(figsize=[15,8])\n",
    "plt.bar(df['Fuel'],df['Price'])"
   ]
  },
  {
   "cell_type": "markdown",
   "metadata": {},
   "source": [
    "From this graph we can conclude that car use petrol as fuel are solding more as compare to Diesel and hybrid. And no car using CNG of electric on solding in our dataset."
   ]
  },
  {
   "cell_type": "code",
   "execution_count": 86,
   "metadata": {},
   "outputs": [
    {
     "data": {
      "text/plain": [
       "<BarContainer object of 5239 artists>"
      ]
     },
     "execution_count": 86,
     "metadata": {},
     "output_type": "execute_result"
    },
    {
     "data": {
      "image/png": "[encoded data removed]",
      "text/plain": [
       "<Figure size 1080x576 with 1 Axes>"
      ]
     },
     "metadata": {
      "needs_background": "light"
     },
     "output_type": "display_data"
    }
   ],
   "source": [
    "# Ploting Bar graph / Bivariate Analysis\n",
    "plt.figure(figsize=[15,8])\n",
    "plt.bar(df['Owners_number'],df['Price'])"
   ]
  },
  {
   "cell_type": "markdown",
   "metadata": {},
   "source": [
    "From this graph we can conclude that second owner car is having more price then first owner and unregistered car."
   ]
  },
  {
   "cell_type": "markdown",
   "metadata": {},
   "source": [
    "# Label encoding of train dataset"
   ]
  },
  {
   "cell_type": "markdown",
   "metadata": {},
   "source": [
    "We noticed before that some columns have object datatype, that needs to change to numeric (either int or float) datatype, so that our model can read the data."
   ]
  },
  {
   "cell_type": "code",
   "execution_count": 25,
   "metadata": {},
   "outputs": [],
   "source": [
    "# Converting categorical data into numerical values in our dataset.\n",
    "le=LabelEncoder() # Calling Label encoding function\n",
    "df['Brand']=le.fit_transform(df['Brand'])\n",
    "df['Model']=le.fit_transform(df['Model'])\n",
    "df['Location']=le.fit_transform(df['Location'])\n",
    "df['Fuel']=le.fit_transform(df['Fuel'])\n",
    "df['Owners_number']=le.fit_transform(df['Owners_number'])"
   ]
  },
  {
   "cell_type": "code",
   "execution_count": 26,
   "metadata": {},
   "outputs": [
    {
     "data": {
      "text/html": [
       "<div>\n",
       "<style scoped>\n",
       "    .dataframe tbody tr th:only-of-type {\n",
       "        vertical-align: middle;\n",
       "    }\n",
       "\n",
       "    .dataframe tbody tr th {\n",
       "        vertical-align: top;\n",
       "    }\n",
       "\n",
       "    .dataframe thead th {\n",
       "        text-align: right;\n",
       "    }\n",
       "</style>\n",
       "<table border=\"1\" class=\"dataframe\">\n",
       "  <thead>\n",
       "    <tr style=\"text-align: right;\">\n",
       "      <th></th>\n",
       "      <th>Unnamed: 0</th>\n",
       "      <th>Brand</th>\n",
       "      <th>Model</th>\n",
       "      <th>Location</th>\n",
       "      <th>Year</th>\n",
       "      <th>Driven_km</th>\n",
       "      <th>Fuel</th>\n",
       "      <th>Owners_number</th>\n",
       "      <th>Price</th>\n",
       "    </tr>\n",
       "  </thead>\n",
       "  <tbody>\n",
       "    <tr>\n",
       "      <th>0</th>\n",
       "      <td>0</td>\n",
       "      <td>31</td>\n",
       "      <td>111</td>\n",
       "      <td>3</td>\n",
       "      <td>2019</td>\n",
       "      <td>14113.0</td>\n",
       "      <td>1</td>\n",
       "      <td>1</td>\n",
       "      <td>23.25</td>\n",
       "    </tr>\n",
       "    <tr>\n",
       "      <th>1</th>\n",
       "      <td>1</td>\n",
       "      <td>19</td>\n",
       "      <td>200</td>\n",
       "      <td>13</td>\n",
       "      <td>2015</td>\n",
       "      <td>50258.0</td>\n",
       "      <td>5</td>\n",
       "      <td>1</td>\n",
       "      <td>4.40</td>\n",
       "    </tr>\n",
       "    <tr>\n",
       "      <th>2</th>\n",
       "      <td>2</td>\n",
       "      <td>22</td>\n",
       "      <td>158</td>\n",
       "      <td>32</td>\n",
       "      <td>2011</td>\n",
       "      <td>51086.0</td>\n",
       "      <td>1</td>\n",
       "      <td>1</td>\n",
       "      <td>25.00</td>\n",
       "    </tr>\n",
       "    <tr>\n",
       "      <th>3</th>\n",
       "      <td>3</td>\n",
       "      <td>19</td>\n",
       "      <td>21</td>\n",
       "      <td>9</td>\n",
       "      <td>2018</td>\n",
       "      <td>34000.0</td>\n",
       "      <td>5</td>\n",
       "      <td>1</td>\n",
       "      <td>3.10</td>\n",
       "    </tr>\n",
       "    <tr>\n",
       "      <th>4</th>\n",
       "      <td>4</td>\n",
       "      <td>32</td>\n",
       "      <td>194</td>\n",
       "      <td>32</td>\n",
       "      <td>2016</td>\n",
       "      <td>45259.0</td>\n",
       "      <td>5</td>\n",
       "      <td>1</td>\n",
       "      <td>6.95</td>\n",
       "    </tr>\n",
       "  </tbody>\n",
       "</table>\n",
       "</div>"
      ],
      "text/plain": [
       "   Unnamed: 0  Brand  Model  Location  Year  Driven_km  Fuel  Owners_number  \\\n",
       "0           0     31    111         3  2019    14113.0     1              1   \n",
       "1           1     19    200        13  2015    50258.0     5              1   \n",
       "2           2     22    158        32  2011    51086.0     1              1   \n",
       "3           3     19     21         9  2018    34000.0     5              1   \n",
       "4           4     32    194        32  2016    45259.0     5              1   \n",
       "\n",
       "   Price  \n",
       "0  23.25  \n",
       "1   4.40  \n",
       "2  25.00  \n",
       "3   3.10  \n",
       "4   6.95  "
      ]
     },
     "execution_count": 26,
     "metadata": {},
     "output_type": "execute_result"
    }
   ],
   "source": [
    "#Checking Converted trin dataset\n",
    "df.head()"
   ]
  },
  {
   "cell_type": "markdown",
   "metadata": {},
   "source": [
    "We can notice that all string values are converted to numeric values."
   ]
  },
  {
   "cell_type": "code",
   "execution_count": 27,
   "metadata": {},
   "outputs": [
    {
     "data": {
      "image/png": "[encoded data removed]",
      "text/plain": [
       "<Figure size 1584x720 with 2 Axes>"
      ]
     },
     "metadata": {
      "needs_background": "light"
     },
     "output_type": "display_data"
    }
   ],
   "source": [
    "#Checking correlation / Multivariate Analysis\n",
    "corr=df.corr()\n",
    "plt.figure(figsize=[22,10])\n",
    "sns.heatmap(corr,annot=True)\n",
    "plt.show()"
   ]
  },
  {
   "cell_type": "code",
   "execution_count": 28,
   "metadata": {},
   "outputs": [
    {
     "data": {
      "text/plain": [
       "Year            -0.139502\n",
       "Brand           -0.015005\n",
       "Unnamed: 0       0.001987\n",
       "Driven_km        0.017128\n",
       "Model            0.020289\n",
       "Owners_number    0.034311\n",
       "Location         0.034986\n",
       "Fuel             0.050098\n",
       "Price            1.000000\n",
       "Name: Price, dtype: float64"
      ]
     },
     "execution_count": 28,
     "metadata": {},
     "output_type": "execute_result"
    }
   ],
   "source": [
    "#Checking Correlation with respect to target column\n",
    "corr['Price'].sort_values()"
   ]
  },
  {
   "cell_type": "code",
   "execution_count": 29,
   "metadata": {},
   "outputs": [
    {
     "data": {
      "text/html": [
       "<div>\n",
       "<style scoped>\n",
       "    .dataframe tbody tr th:only-of-type {\n",
       "        vertical-align: middle;\n",
       "    }\n",
       "\n",
       "    .dataframe tbody tr th {\n",
       "        vertical-align: top;\n",
       "    }\n",
       "\n",
       "    .dataframe thead th {\n",
       "        text-align: right;\n",
       "    }\n",
       "</style>\n",
       "<table border=\"1\" class=\"dataframe\">\n",
       "  <thead>\n",
       "    <tr style=\"text-align: right;\">\n",
       "      <th></th>\n",
       "      <th>Unnamed: 0</th>\n",
       "      <th>Brand</th>\n",
       "      <th>Model</th>\n",
       "      <th>Location</th>\n",
       "      <th>Year</th>\n",
       "      <th>Driven_km</th>\n",
       "      <th>Fuel</th>\n",
       "      <th>Owners_number</th>\n",
       "      <th>Price</th>\n",
       "    </tr>\n",
       "  </thead>\n",
       "  <tbody>\n",
       "    <tr>\n",
       "      <th>count</th>\n",
       "      <td>5239.000000</td>\n",
       "      <td>5239.000000</td>\n",
       "      <td>5239.000000</td>\n",
       "      <td>5239.000000</td>\n",
       "      <td>5239.000000</td>\n",
       "      <td>5239.000000</td>\n",
       "      <td>5239.000000</td>\n",
       "      <td>5239.000000</td>\n",
       "      <td>5239.000000</td>\n",
       "    </tr>\n",
       "    <tr>\n",
       "      <th>mean</th>\n",
       "      <td>2619.000000</td>\n",
       "      <td>16.360947</td>\n",
       "      <td>111.276389</td>\n",
       "      <td>19.381180</td>\n",
       "      <td>2015.189922</td>\n",
       "      <td>55419.780241</td>\n",
       "      <td>2.763314</td>\n",
       "      <td>1.419927</td>\n",
       "      <td>189.338857</td>\n",
       "    </tr>\n",
       "    <tr>\n",
       "      <th>std</th>\n",
       "      <td>1512.513361</td>\n",
       "      <td>9.388587</td>\n",
       "      <td>66.150698</td>\n",
       "      <td>13.955828</td>\n",
       "      <td>3.166140</td>\n",
       "      <td>42689.205288</td>\n",
       "      <td>1.995342</td>\n",
       "      <td>0.871263</td>\n",
       "      <td>3707.215262</td>\n",
       "    </tr>\n",
       "    <tr>\n",
       "      <th>min</th>\n",
       "      <td>0.000000</td>\n",
       "      <td>0.000000</td>\n",
       "      <td>0.000000</td>\n",
       "      <td>0.000000</td>\n",
       "      <td>1988.000000</td>\n",
       "      <td>0.000000</td>\n",
       "      <td>0.000000</td>\n",
       "      <td>0.000000</td>\n",
       "      <td>1.000000</td>\n",
       "    </tr>\n",
       "    <tr>\n",
       "      <th>25%</th>\n",
       "      <td>1309.500000</td>\n",
       "      <td>9.000000</td>\n",
       "      <td>57.000000</td>\n",
       "      <td>8.000000</td>\n",
       "      <td>2013.000000</td>\n",
       "      <td>31000.000000</td>\n",
       "      <td>1.000000</td>\n",
       "      <td>1.000000</td>\n",
       "      <td>4.400000</td>\n",
       "    </tr>\n",
       "    <tr>\n",
       "      <th>50%</th>\n",
       "      <td>2619.000000</td>\n",
       "      <td>19.000000</td>\n",
       "      <td>111.000000</td>\n",
       "      <td>13.000000</td>\n",
       "      <td>2016.000000</td>\n",
       "      <td>54000.000000</td>\n",
       "      <td>1.000000</td>\n",
       "      <td>1.000000</td>\n",
       "      <td>7.000000</td>\n",
       "    </tr>\n",
       "    <tr>\n",
       "      <th>75%</th>\n",
       "      <td>3928.500000</td>\n",
       "      <td>22.000000</td>\n",
       "      <td>178.000000</td>\n",
       "      <td>32.000000</td>\n",
       "      <td>2017.000000</td>\n",
       "      <td>71663.000000</td>\n",
       "      <td>5.000000</td>\n",
       "      <td>1.000000</td>\n",
       "      <td>14.805000</td>\n",
       "    </tr>\n",
       "    <tr>\n",
       "      <th>max</th>\n",
       "      <td>5238.000000</td>\n",
       "      <td>33.000000</td>\n",
       "      <td>227.000000</td>\n",
       "      <td>49.000000</td>\n",
       "      <td>2021.000000</td>\n",
       "      <td>920000.000000</td>\n",
       "      <td>5.000000</td>\n",
       "      <td>5.000000</td>\n",
       "      <td>99000.000000</td>\n",
       "    </tr>\n",
       "  </tbody>\n",
       "</table>\n",
       "</div>"
      ],
      "text/plain": [
       "        Unnamed: 0        Brand        Model     Location         Year  \\\n",
       "count  5239.000000  5239.000000  5239.000000  5239.000000  5239.000000   \n",
       "mean   2619.000000    16.360947   111.276389    19.381180  2015.189922   \n",
       "std    1512.513361     9.388587    66.150698    13.955828     3.166140   \n",
       "min       0.000000     0.000000     0.000000     0.000000  1988.000000   \n",
       "25%    1309.500000     9.000000    57.000000     8.000000  2013.000000   \n",
       "50%    2619.000000    19.000000   111.000000    13.000000  2016.000000   \n",
       "75%    3928.500000    22.000000   178.000000    32.000000  2017.000000   \n",
       "max    5238.000000    33.000000   227.000000    49.000000  2021.000000   \n",
       "\n",
       "           Driven_km         Fuel  Owners_number         Price  \n",
       "count    5239.000000  5239.000000    5239.000000   5239.000000  \n",
       "mean    55419.780241     2.763314       1.419927    189.338857  \n",
       "std     42689.205288     1.995342       0.871263   3707.215262  \n",
       "min         0.000000     0.000000       0.000000      1.000000  \n",
       "25%     31000.000000     1.000000       1.000000      4.400000  \n",
       "50%     54000.000000     1.000000       1.000000      7.000000  \n",
       "75%     71663.000000     5.000000       1.000000     14.805000  \n",
       "max    920000.000000     5.000000       5.000000  99000.000000  "
      ]
     },
     "execution_count": 29,
     "metadata": {},
     "output_type": "execute_result"
    }
   ],
   "source": [
    "#Checking Statistical information\n",
    "df.describe()"
   ]
  },
  {
   "cell_type": "code",
   "execution_count": 30,
   "metadata": {},
   "outputs": [
    {
     "data": {
      "text/plain": [
       "<matplotlib.axes._subplots.AxesSubplot at 0x175f2741808>"
      ]
     },
     "execution_count": 30,
     "metadata": {},
     "output_type": "execute_result"
    },
    {
     "data": {
      "image/png": "[encoded data removed]",
      "text/plain": [
       "<Figure size 1440x576 with 1 Axes>"
      ]
     },
     "metadata": {
      "needs_background": "light"
     },
     "output_type": "display_data"
    }
   ],
   "source": [
    "#Checking outliers using boxplots\n",
    "df.boxplot(figsize=[20,8])"
   ]
  },
  {
   "cell_type": "markdown",
   "metadata": {},
   "source": [
    "Here, there are some outliers that can effect our readings. so, we need to remove these outliers."
   ]
  },
  {
   "cell_type": "code",
   "execution_count": 31,
   "metadata": {},
   "outputs": [],
   "source": [
    "#Improving outliers using zscore\n",
    "z=np.abs(stats.zscore(df))\n",
    "df_new=(z<3).all(axis=1)\n",
    "df=df[df_new] # storing improved datafrme into orignal dataframe                  "
   ]
  },
  {
   "cell_type": "code",
   "execution_count": 32,
   "metadata": {},
   "outputs": [],
   "source": [
    "#Spliting dataset into independent(x) and target(y) variable \n",
    "x=df.drop('Price',axis=1)\n",
    "y=df['Price']"
   ]
  },
  {
   "cell_type": "code",
   "execution_count": 33,
   "metadata": {},
   "outputs": [
    {
     "data": {
      "text/plain": [
       "Unnamed: 0      -0.000979\n",
       "Brand            0.069127\n",
       "Model            0.163265\n",
       "Location         0.250798\n",
       "Year            -0.595061\n",
       "Driven_km        0.747514\n",
       "Fuel             0.229623\n",
       "Owners_number    1.705780\n",
       "dtype: float64"
      ]
     },
     "execution_count": 33,
     "metadata": {},
     "output_type": "execute_result"
    }
   ],
   "source": [
    "#Checking skewness of independent valriable\n",
    "x.skew()"
   ]
  },
  {
   "cell_type": "code",
   "execution_count": 34,
   "metadata": {},
   "outputs": [
    {
     "data": {
      "text/plain": [
       "Unnamed: 0      -0.290884\n",
       "Brand           -0.212924\n",
       "Model           -0.204276\n",
       "Location        -0.164645\n",
       "Year            -0.447290\n",
       "Driven_km       -0.048995\n",
       "Fuel             0.114726\n",
       "Owners_number    1.588033\n",
       "dtype: float64"
      ]
     },
     "execution_count": 34,
     "metadata": {},
     "output_type": "execute_result"
    }
   ],
   "source": [
    "#Improving skewness\n",
    "pt=power_transform(x, method='yeo-johnson')\n",
    "x=pd.DataFrame(pt, columns=x.columns)\n",
    "x.skew()"
   ]
  },
  {
   "cell_type": "code",
   "execution_count": 35,
   "metadata": {},
   "outputs": [],
   "source": [
    "# Do Scaling for making all values in dataset into one particular range\n",
    "scaler = StandardScaler()\n",
    "x_scaled=scaler.fit_transform(x)\n",
    "x = pd.DataFrame(x_scaled, columns=x.columns)"
   ]
  },
  {
   "cell_type": "markdown",
   "metadata": {},
   "source": [
    "# Model Building"
   ]
  },
  {
   "cell_type": "markdown",
   "metadata": {},
   "source": [
    "Lets check the best random state which gives the best accuracy result."
   ]
  },
  {
   "cell_type": "code",
   "execution_count": 36,
   "metadata": {},
   "outputs": [
    {
     "name": "stdout",
     "output_type": "stream",
     "text": [
      "r2score is : 0.9680435026195395 random_state is : 0\n",
      "r2score is : 0.9812592032027798 random_state is : 2\n",
      "r2score is : 0.9849872784712207 random_state is : 10\n",
      "r2score is : 0.9857127574729474 random_state is : 72\n",
      "r2score is : 0.9861347917652368 random_state is : 116\n"
     ]
    }
   ],
   "source": [
    "# Finding the best random state\n",
    "max_score=0\n",
    "max_state=0\n",
    "for i in range(0,200):\n",
    "    x_train,x_test,y_train,y_test=train_test_split(x,y,random_state=i,test_size=0.3)\n",
    "    LR=RandomForestRegressor()\n",
    "    LR.fit(x_train,y_train)\n",
    "    pred=LR.predict(x_test)\n",
    "    r2score=r2_score(y_test,pred)\n",
    "    if max_score<r2score:\n",
    "        max_score=r2score\n",
    "        random_state=i\n",
    "        print('r2score is :',max_score,'random_state is :',random_state)"
   ]
  },
  {
   "cell_type": "code",
   "execution_count": 37,
   "metadata": {},
   "outputs": [],
   "source": [
    "# Calling train test split method\n",
    "x_train,x_test,y_train,y_test=train_test_split(x,y,random_state=56,test_size=0.3)"
   ]
  },
  {
   "cell_type": "markdown",
   "metadata": {},
   "source": [
    "# ML Algorithms"
   ]
  },
  {
   "cell_type": "code",
   "execution_count": 38,
   "metadata": {},
   "outputs": [
    {
     "data": {
      "text/plain": [
       "0.9524262085247203"
      ]
     },
     "execution_count": 38,
     "metadata": {},
     "output_type": "execute_result"
    }
   ],
   "source": [
    "#Doing DecisionTree Regression on dataset\n",
    "dtr=DecisionTreeRegressor()\n",
    "dtr.fit(x_train,y_train)\n",
    "preddtr=dtr.predict(x_test)\n",
    "r2_score(y_test,preddtr)"
   ]
  },
  {
   "cell_type": "code",
   "execution_count": 39,
   "metadata": {},
   "outputs": [
    {
     "data": {
      "text/plain": [
       "0.9752339161783247"
      ]
     },
     "execution_count": 39,
     "metadata": {},
     "output_type": "execute_result"
    }
   ],
   "source": [
    "#Doing Random Forest Regression on dataset\n",
    "rfr=RandomForestRegressor()\n",
    "rfr.fit(x_train,y_train)\n",
    "predrfr=rfr.predict(x_test)\n",
    "r2_score(y_test,predrfr)"
   ]
  },
  {
   "cell_type": "code",
   "execution_count": 40,
   "metadata": {},
   "outputs": [
    {
     "data": {
      "text/plain": [
       "0.8086853663025162"
      ]
     },
     "execution_count": 40,
     "metadata": {},
     "output_type": "execute_result"
    }
   ],
   "source": [
    "#Doing AdaBoost Regression on dataset\n",
    "adb=AdaBoostRegressor()\n",
    "adb.fit(x_train,y_train)\n",
    "predadb=adb.predict(x_test)\n",
    "r2_score(y_test,predadb)"
   ]
  },
  {
   "cell_type": "markdown",
   "metadata": {},
   "source": [
    "# Cross Validation"
   ]
  },
  {
   "cell_type": "code",
   "execution_count": 41,
   "metadata": {},
   "outputs": [
    {
     "name": "stdout",
     "output_type": "stream",
     "text": [
      "Cross Validation Score is: 0.8952264091493316\n"
     ]
    }
   ],
   "source": [
    "#Finding Cross validation of DecisionTree Regressor\n",
    "scr2=cross_val_score(dtr,x,y,cv=5)\n",
    "print('Cross Validation Score is:',scr2.mean())"
   ]
  },
  {
   "cell_type": "code",
   "execution_count": 42,
   "metadata": {},
   "outputs": [
    {
     "name": "stdout",
     "output_type": "stream",
     "text": [
      "Cross Validation Score is: 0.9273608664853586\n"
     ]
    }
   ],
   "source": [
    "#Finding Cross validation of Random Forest Regressor\n",
    "scr3=cross_val_score(rfr,x,y,cv=5)\n",
    "print('Cross Validation Score is:',scr3.mean())"
   ]
  },
  {
   "cell_type": "code",
   "execution_count": 43,
   "metadata": {},
   "outputs": [
    {
     "name": "stdout",
     "output_type": "stream",
     "text": [
      "Cross Validation Score is: 0.7291548642272139\n"
     ]
    }
   ],
   "source": [
    "#Finding Cross validation of AdaBoost Regressor\n",
    "scr3=cross_val_score(adb,x,y,cv=5)\n",
    "print('Cross Validation Score is:',scr3.mean())"
   ]
  },
  {
   "cell_type": "markdown",
   "metadata": {},
   "source": [
    "# Hyper tunning parameter"
   ]
  },
  {
   "cell_type": "code",
   "execution_count": 44,
   "metadata": {},
   "outputs": [
    {
     "data": {
      "text/plain": [
       "GridSearchCV(cv=5, error_score=nan,\n",
       "             estimator=RandomForestRegressor(bootstrap=True, ccp_alpha=0.0,\n",
       "                                             criterion='mse', max_depth=None,\n",
       "                                             max_features='auto',\n",
       "                                             max_leaf_nodes=None,\n",
       "                                             max_samples=None,\n",
       "                                             min_impurity_decrease=0.0,\n",
       "                                             min_impurity_split=None,\n",
       "                                             min_samples_leaf=1,\n",
       "                                             min_samples_split=2,\n",
       "                                             min_weight_fraction_leaf=0.0,\n",
       "                                             n_estimators=100, n_jobs=None,\n",
       "                                             oob_score=False, random_state=None,\n",
       "                                             verbose=0, warm_start=False),\n",
       "             iid='deprecated', n_jobs=None,\n",
       "             param_grid={'n_jobs': array([ 2,  3,  4,  5,  6,  7,  8,  9, 10, 11, 12, 13, 14])},\n",
       "             pre_dispatch='2*n_jobs', refit=True, return_train_score=False,\n",
       "             scoring=None, verbose=0)"
      ]
     },
     "execution_count": 44,
     "metadata": {},
     "output_type": "execute_result"
    }
   ],
   "source": [
    "#Grid SearchCV\n",
    "parameter={'n_jobs':np.arange(2,15)}   #Creating parameter list to pass in GridSearchCV\n",
    "GCV= GridSearchCV(rfr,parameter,cv=5)\n",
    "GCV.fit(x_train,y_train)"
   ]
  },
  {
   "cell_type": "code",
   "execution_count": 45,
   "metadata": {},
   "outputs": [
    {
     "data": {
      "text/plain": [
       "0.9748011794326851"
      ]
     },
     "execution_count": 45,
     "metadata": {},
     "output_type": "execute_result"
    }
   ],
   "source": [
    "#Predicting values from Grid SearchCV\n",
    "predgcv=GCV.best_estimator_.predict(x_test)\n",
    "r2_score(y_test,predgcv)"
   ]
  },
  {
   "cell_type": "code",
   "execution_count": 46,
   "metadata": {},
   "outputs": [
    {
     "data": {
      "text/plain": [
       "['Car_price.obj']"
      ]
     },
     "execution_count": 46,
     "metadata": {},
     "output_type": "execute_result"
    }
   ],
   "source": [
    "#Save the model\n",
    "joblib.dump(GCV.best_estimator_,\"Car_price.obj\")"
   ]
  },
  {
   "cell_type": "markdown",
   "metadata": {},
   "source": [
    "# Conclusion"
   ]
  },
  {
   "cell_type": "markdown",
   "metadata": {},
   "source": [
    "In this dataset we can conclude that as per our observation RandomForest regressor is the best model to predict the target variable of our test dataset. This model gives the best prediction solutions as per other model used above."
   ]
  },
  {
   "cell_type": "code",
   "execution_count": null,
   "metadata": {},
   "outputs": [],
   "source": []
  }
 ],
 "metadata": {
  "kernelspec": {
   "display_name": "Python 3",
   "language": "python",
   "name": "python3"
  },
  "language_info": {
   "codemirror_mode": {
    "name": "ipython",
    "version": 3
   },
   "file_extension": ".py",
   "mimetype": "text/x-python",
   "name": "python",
   "nbconvert_exporter": "python",
   "pygments_lexer": "ipython3",
   "version": "3.7.6"
  }
 },
 "nbformat": 4,
 "nbformat_minor": 4
}
